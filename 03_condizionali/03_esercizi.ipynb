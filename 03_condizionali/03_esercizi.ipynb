{
 "cells": [
  {
   "cell_type": "markdown",
   "metadata": {},
   "source": [
    "# Altezza\n",
    "\n",
    "Viene chiesto di scrivere un programma che chieda all'utente di fornire la sua altezza in centimetri. Se l'altezza è maggiore o uguale a 180 il programma deve stampare la seguente dicitura: ``Sei una persona molto alta``.\n",
    "\n",
    "Tradurre il diagramma di flusso in un codice Python che risolva il problema.\n"
   ]
  },
  {
   "cell_type": "code",
   "execution_count": 30,
   "metadata": {},
   "outputs": [
    {
     "name": "stdout",
     "output_type": "stream",
     "text": [
      "Sei una persona molto alta\n"
     ]
    }
   ],
   "source": [
    "altezza= float(input(\"Quanto sei alto in cm?\"))\n",
    "\n",
    "if altezza >= 180:\n",
    "    print(\"Sei una persona molto alta\")"
   ]
  },
  {
   "cell_type": "markdown",
   "metadata": {},
   "source": [
    "# Altezza 2\n",
    " Riprendere l'esercizio precedente ed aggiungere il codice che permetta al programma di scrivere ``Sei una persona di media altezza`` se l'altezza è inferiore a 180 cm.\n",
    "\n",
    " Tradurre il diagramma di flusso in un codice Python che risolva il problema."
   ]
  },
  {
   "cell_type": "code",
   "execution_count": 29,
   "metadata": {},
   "outputs": [
    {
     "name": "stdout",
     "output_type": "stream",
     "text": [
      "Sei una persona di media altezza\n"
     ]
    }
   ],
   "source": [
    "altezza= float(input(\"Quanto sei alto in cm?\"))\n",
    "\n",
    "if altezza >= 180:\n",
    "    print(\"Sei una persona molto alta\")\n",
    "print (f\"Sei una persona di media altezza\")"
   ]
  },
  {
   "cell_type": "markdown",
   "metadata": {},
   "source": [
    "# Area rettangolo\n",
    "L'area di un rettangolo è uguale alla sua base per la sua altezza. Scrivere un programma che chieda la base e l'altezza di due rettangoli e successivamente indichi quale dei due rettangoli ha l'area maggiore."
   ]
  },
  {
   "cell_type": "code",
   "execution_count": 27,
   "metadata": {},
   "outputs": [
    {
     "name": "stdout",
     "output_type": "stream",
     "text": [
      "Le aree dei due rettangoli sono uguali\n"
     ]
    }
   ],
   "source": [
    "base_1= float(input(\"Quale è la base in cm del primo rettangolo?\"))\n",
    "altezza_1= float(input(\"Quale è l'altezza in cm del primo rettangolo?\"))\n",
    "\n",
    "base_2= float(input(\"Quale è la base in cm del primo rettangolo?\"))\n",
    "altezza_2= float(input(\"Quale è l'altezza in cm del primo rettangolo?\"))\n",
    "\n",
    "area_1= base_1*altezza_1\n",
    "area_2= base_2*altezza_2\n",
    "\n",
    "if area_1 > area_2:\n",
    "    print(\"L'area del primo rettangolo è maggiore a quella del secondo rettangolo\")\n",
    "if area_2 > area_1:\n",
    "    print(\"L'area del secondo rettangolo è maggiore a quella del primo rettangolo\")\n",
    "if area_1 == area_2:\n",
    "    print(\"Le aree dei due rettangoli sono uguali\")"
   ]
  },
  {
   "cell_type": "markdown",
   "metadata": {},
   "source": [
    "# Pari e dispari\n",
    "Scrivere un programma che chieda all'utente di indicare un numero intero. Se il numero è pari, il programma deve visualizzare: ``Il tuo numero è pari`` , se invece il numero è dispari deve visualizzare: ``Il tuo numero è dispari``."
   ]
  },
  {
   "cell_type": "code",
   "execution_count": 26,
   "metadata": {},
   "outputs": [
    {
     "name": "stdout",
     "output_type": "stream",
     "text": [
      "Il tuo numero è pari\n"
     ]
    }
   ],
   "source": [
    "numero= int(input(\"indica un numero\"))\n",
    "\n",
    "if numero%2 ==0:\n",
    "    print(\"Il tuo numero è pari\")\n",
    "if numero%2 !=0:\n",
    "    print(\"Il tuo numero è dispari\")"
   ]
  },
  {
   "cell_type": "markdown",
   "metadata": {},
   "source": [
    "# Password\n",
    " Scrivere un programma che chieda all'utente di inserire una password a proprio piacimento. Se la password è composta da almeno 8 caratteri il programma deve visualizzare: ``La password è stata accettata`` , altrimenti ``La password inserita è troppo corta``"
   ]
  },
  {
   "cell_type": "code",
   "execution_count": 25,
   "metadata": {},
   "outputs": [
    {
     "name": "stdout",
     "output_type": "stream",
     "text": [
      "La password inserita è stata accettata\n"
     ]
    }
   ],
   "source": [
    "password= str(input(\"inserisci la password\"))\n",
    "\n",
    "if len(password) >= 8:\n",
    "    print(\"La password inserita è stata accettata\")\n",
    "if len(password) < 8:\n",
    "    print(\"La password inserita è troppo corta\")"
   ]
  },
  {
   "cell_type": "markdown",
   "metadata": {},
   "source": [
    "# Assegnazioni\n",
    "\n",
    "Scrivere una istruzione ``if`` che assegni 0 alla variabile ``b`` e assegni 1 alla variabile ``c``  se la variabile ``a`` è minore di 10."
   ]
  },
  {
   "cell_type": "code",
   "execution_count": 24,
   "metadata": {},
   "outputs": [
    {
     "name": "stdout",
     "output_type": "stream",
     "text": [
      "b è uguale a {b} e c è uguale a {c}\n"
     ]
    }
   ],
   "source": [
    "a=float(input(\"Inserisci il valore di a\"))\n",
    "\n",
    "if a <10:\n",
    "    b = 0\n",
    "    c = 1\n",
    "    print(\"b è uguale a {b} e c è uguale a {c}\")"
   ]
  },
  {
   "cell_type": "markdown",
   "metadata": {},
   "source": [
    "# Assegnazioni 2\n",
    "Scrivere una istruzione ``if-else `` che assegni 0 alla variabile ``b`` se la variabile ``a`` è minore di 10. In caso contrario, l'istruzione deve assegnare 99 alla variabile ``b``."
   ]
  },
  {
   "cell_type": "code",
   "execution_count": 22,
   "metadata": {},
   "outputs": [
    {
     "name": "stdout",
     "output_type": "stream",
     "text": [
      "la b è uguale a {b}\n"
     ]
    }
   ],
   "source": [
    "a = float(input(\"inserisci il valore di a\"))\n",
    "\n",
    "if a < 10:\n",
    "    b = 0\n",
    "    a = 1\n",
    "    print(\"b è uguale a {b} e a è uguale a {a}\")\n",
    "\n",
    "else:\n",
    "    b = 99\n",
    "    print(\"la b è uguale a {b}\")"
   ]
  }
 ],
 "metadata": {
  "kernelspec": {
   "display_name": "Python 3 (ipykernel)",
   "language": "python",
   "name": "python3"
  },
  "language_info": {
   "codemirror_mode": {
    "name": "ipython",
    "version": 3
   },
   "file_extension": ".py",
   "mimetype": "text/x-python",
   "name": "python",
   "nbconvert_exporter": "python",
   "pygments_lexer": "ipython3",
   "version": "3.10.13"
  }
 },
 "nbformat": 4,
 "nbformat_minor": 2
}
